{
 "cells": [
  {
   "cell_type": "markdown",
   "id": "dde6c001-79a4-4766-8f4d-a073c4f0134e",
   "metadata": {},
   "source": [
    "# 1.Introdução"
   ]
  },
  {
   "cell_type": "markdown",
   "id": "60f2d0a8-289b-4437-ac08-0aaa44081614",
   "metadata": {},
   "source": [
    "# Etapas do Processo\n",
    "\n",
    "    1. Introdução\n",
    "        Explicação sobre os dados e o processo a ser realizado.\n",
    "        \n",
    "    2. Importação das Bibliotecas\n",
    "        Importação das bibliotecas que serão utilizadas no processo.\n",
    "        \n",
    "    3. Criação do Ambiente Spark\n",
    "        A criação de um ambiente Spark é o processo de configurar um ambiente de computação que utiliza o Apache Spark, um framework de processamento de dados em larga escala. Este ambiente pode incluir a instalação do Spark, configuração de variáveis de ambiente, e a integração com ferramentas como Jupyter Notebook, que permitem a interação com os dados de forma eficiente e intuitiva.\n",
    "        Os motivos para a decisão de trabalhar com spark são:\n",
    "        \n",
    "            * Processamento Distribuído: O Apache Spark é projetado para processar grandes volumes de dados de forma distribuída, o que significa que ele pode realizar operações em paralelo em clusters de computação, resultando em maior eficiência e velocidade.\n",
    "            \n",
    "           *  Flexibilidade: O Spark suporta diversas linguagens de programação, como Python, Java, Scala e R. Isso permite que os desenvolvedores escolham a linguagem com a qual estão mais confortáveis, facilitando a integração e a implementação de soluções de dados.\n",
    "            \n",
    "            * Diversas Funcionalidades: O ambiente Spark oferece uma gama de bibliotecas e módulos, como Spark SQL, MLlib (para aprendizado de máquina), Spark Streaming (para processamento de dados em tempo real) e GraphX (para processamento de gráficos), permitindo uma variedade de aplicações em diferentes áreas.\n",
    "            \n",
    "            * Integração com Big Data: O Spark é frequentemente utilizado em conjunto com sistemas de armazenamento de dados grandes, como Hadoop, Apache Cassandra e Amazon S3, permitindo o acesso e o processamento de dados em larga escala.\n",
    "            \n",
    "            * Desempenho: O Spark é otimizado para desempenho, com características como execução em memória, o que reduz o tempo necessário para ler e escrever dados em disco. Isso o torna mais rápido em comparação com outras soluções de processamento de dados.\n",
    "        \n",
    "            * Análise de Dados Interativa: A criação de um ambiente Spark, especialmente em conjunto com ferramentas como Jupyter Notebook, facilita a análise interativa de dados. Os usuários podem executar comandos e visualizar resultados em tempo real, promovendo uma melhor exploração dos dados.        \n",
    "            \n",
    "    4. Importação dos Dados\n",
    "        Nesta etapa serão importados os dados a serem trabalhados neste notebook.\n",
    "        \n",
    "    5. Análise Exploratória dos Dados\n",
    "        A análise exploratória dos dados é a etapa em que as tabelas importadas anteriormente serão analisadas quanto ao tipo dos metadados, à quantidade de dados, aos dados faltantes, às suas distribuições, entre outras informações fundamentais para iniciar qualquer tipo de trabalho.\n",
    "        \n",
    "    6. Tratamento dos Dados\n",
    "        Nesta etapa iremos realizar a feature selection que é o processo de identificar e selecionar as características (features) mais relevantes de um conjunto de dados para a construção de um modelo de machine learning. Essa etapa é crucial no pré-processamento dos dados, pois impacta diretamente na qualidade e desempenho do modelo. Os principais motivos de realizar a feature selection são: Redução da Dimensionalidade, Melhoria da Performance do Modelo, Interpretação e Explicabilidade, Aumento da Generalização e Facilitação da Visualização.\n",
    "\n",
    "    7. Criação das Variáveis\n",
    "        Nesta etapa iremos criar as variáveis explicativas e variáveis históricas.\n",
    "        A cada variável criada serão realizados as seguintes etapas:\n",
    "\n",
    "            * Criação da variável\n",
    "            * Armazenamento do df em .parquet\n",
    "            * Criação da função desta variável no arquivo feature_store_churn\n",
    "            * Uso da função neste notebook\n",
    "        \n",
    "        7.1. Variáveis explicativas:\n",
    "\n",
    "    * Tempo desde a Última Transação: A diferença entre a data mais recente no conjunto de dados e a última data de compra de cada cliente.\n",
    "    * Frequência de Compra: Quantidade de compras que o cliente fez dividida pelo número de meses desde sua inscrição.\n",
    "    * Total Gasto: Soma de todos os valores gastos pelo cliente em todas as suas transações.\n",
    "    * Categoria Favorita: Categoria de produto em que o cliente gastou a maior quantia.\n",
    "    * Gasto Médio por Transação: Total gasto dividido pelo número total de transações.\n",
    "    * Duração da Assinatura: Número de dias desde que o cliente se inscreveu até a data mais recente no conjunto de dados.\n",
    "    * Número de Categorias Compradas: Quantidade de categorias diferentes das quais o cliente comprou.\n",
    "    * Usou Suporte antes da Primeira Compra: Indicador (1 ou 0) se o cliente usou o suporte antes de fazer sua primeira compra.\n",
    "    * Dias entre Inscrição e Primeira Compra: Diferença em dias entre a data de inscrição do cliente e sua primeira transação.\n",
    "    * Frequência de Transações por Plano: Número de transações do cliente dividido pelos meses de inscrição, segmentado por plano (Básico, Intermediário, Avançado)\n",
    "\n",
    "        7.2. Variáveis históricas - 3 meses:\n",
    "\n",
    "    * Média do Valor Gasto em Esportes nos Últimos 3 Meses: Esta variável calcula a média dos gastos do cliente na categoria \"Esportes\" nos últimos três meses.\n",
    "    * Média do Valor Gasto em Eletrônicos nos Últimos 3 Meses: Semelhante à anterior, mas focada na categoria \"Eletrônicos\".\n",
    "    * Média do Valor Gasto em Roupas nos Últimos 3 Meses: Foca na categoria \"Roupas\", representando a média dos gastos do cliente nos últimos três meses.\n",
    "    * Média do Valor Gasto em Alimentos nos Últimos 3 Meses: Representa a média dos gastos do cliente na categoria \"Alimentos\" nos últimos três meses.\n",
    "    * Média do Valor Gasto em Livros nos Últimos 3 Meses: Foca na categoria \"Livros\", calculando a média dos gastos do cliente nos últimos três meses.\n",
    "    \n",
    "        7.3. Repita o passo anterior considerando - últimos 6 meses\n",
    "        7.4. Repita o passo anterior considerando - últimos 9 meses\n",
    "        7.5. Repita o passo anterior considerando - últimos 12 meses\n",
    "    \n",
    "    8. Criação de Novo Arquivo\n",
    "        Ao final do processo, iremos gerar novos arquivos no formato .csv e .parquet."
   ]
  },
  {
   "cell_type": "markdown",
   "id": "1adf82e1-fa40-4a48-920b-8d50ece2e197",
   "metadata": {},
   "source": [
    "# 2. Importação das Bibliotecas"
   ]
  },
  {
   "cell_type": "code",
   "execution_count": 1,
   "id": "a6563872-9eca-454d-9db8-a1b93a023c32",
   "metadata": {},
   "outputs": [],
   "source": [
    "# !pip install pyspark\n",
    "# !pip install findspark\n",
    "# !pip install fastparquet\n",
    "\n",
    "# !pip install nbimporter\n",
    "import nbimporter"
   ]
  },
  {
   "cell_type": "code",
   "execution_count": 2,
   "id": "d3be4f19-f35f-434e-8c59-4aaec12ccc2d",
   "metadata": {},
   "outputs": [],
   "source": [
    "import findspark\n",
    "\n",
    "from pyspark.sql import SparkSession, functions as F\n",
    "from pyspark.sql import Window\n",
    "\n",
    "# Classe com a feature store\n",
    "from feature_store_churn import FeatureStoreChurn\n",
    "\n",
    "findspark.init()"
   ]
  },
  {
   "cell_type": "markdown",
   "id": "95cfc5aa-1e94-4358-a86d-209d989972ee",
   "metadata": {},
   "source": [
    "# 3. Configurações do Notebook"
   ]
  },
  {
   "cell_type": "markdown",
   "id": "a5bc8584-c3a5-4b3f-8ca2-2c5b58dcb72b",
   "metadata": {},
   "source": [
    "## 3.1. Configuração do Ambiente Spark"
   ]
  },
  {
   "cell_type": "code",
   "execution_count": 3,
   "id": "d66dd763-eae9-409f-a8e6-9cbb07b03add",
   "metadata": {},
   "outputs": [
    {
     "data": {
      "text/html": [
       "\n",
       "            <div>\n",
       "                <p><b>SparkSession - in-memory</b></p>\n",
       "                \n",
       "        <div>\n",
       "            <p><b>SparkContext</b></p>\n",
       "\n",
       "            <p><a href=\"http://DESKTOP-RBQ4BAJ:4040\">Spark UI</a></p>\n",
       "\n",
       "            <dl>\n",
       "              <dt>Version</dt>\n",
       "                <dd><code>v3.5.1</code></dd>\n",
       "              <dt>Master</dt>\n",
       "                <dd><code>local[*]</code></dd>\n",
       "              <dt>AppName</dt>\n",
       "                <dd><code>Feature Selection</code></dd>\n",
       "            </dl>\n",
       "        </div>\n",
       "        \n",
       "            </div>\n",
       "        "
      ],
      "text/plain": [
       "<pyspark.sql.session.SparkSession at 0x1b77c86b560>"
      ]
     },
     "execution_count": 3,
     "metadata": {},
     "output_type": "execute_result"
    }
   ],
   "source": [
    "spark = SparkSession.builder \\\n",
    "    .appName(\"Feature Selection\") \\\n",
    "    .master(\"local[*]\") \\\n",
    "    .getOrCreate()\n",
    "\n",
    "spark"
   ]
  },
  {
   "cell_type": "markdown",
   "id": "bed43942-299f-4b43-918b-218c7f3546dc",
   "metadata": {},
   "source": [
    "# 3.2. Funções"
   ]
  },
  {
   "cell_type": "code",
   "execution_count": 4,
   "id": "b9c22ae1-6631-483a-9ff0-534372ce292a",
   "metadata": {},
   "outputs": [],
   "source": [
    "def rename_columns(columns_dic, df):\n",
    "    columns = columns_dic\n",
    "    \n",
    "    # Renomear as colunas no DataFrame\n",
    "    for old_column, new_column in columns.items():\n",
    "        df = df.withColumnRenamed(old_column, new_column)\n",
    "    return df"
   ]
  },
  {
   "cell_type": "code",
   "execution_count": 5,
   "id": "6443a525-25df-4fd3-b1a0-f0a60e45a6bc",
   "metadata": {},
   "outputs": [],
   "source": [
    "def join_dfs(df_01, df_02, join_condition, join_type):\n",
    "    df_new = df_01.join(df_02\n",
    "                                   , on = join_condition\n",
    "                                   , how = join_type\n",
    "                                  )\n",
    "    return df_new"
   ]
  },
  {
   "cell_type": "code",
   "execution_count": 6,
   "id": "c422f99c-f9f5-4fb3-ab5d-ced91cc50eb0",
   "metadata": {},
   "outputs": [],
   "source": [
    "def df_to_parquet(df, file_path):\n",
    "    df_p = df.toPandas()\n",
    "    df_p.to_parquet(file_path, index=False)\n",
    "    print(\"DF Salvo!\")"
   ]
  },
  {
   "cell_type": "markdown",
   "id": "77b6ba2f-a8f5-4636-86d1-f66ebf6c6482",
   "metadata": {},
   "source": [
    "# 4. Importação dos Dados"
   ]
  },
  {
   "cell_type": "code",
   "execution_count": 7,
   "id": "d0b9006e-0ecf-41f3-8523-8c8708e8d83f",
   "metadata": {},
   "outputs": [
    {
     "name": "stdout",
     "output_type": "stream",
     "text": [
      "+---+-----+------+----------------------+------------+-------------+-----+\n",
      "| ID|Idade|Gênero|Dias desde a Inscrição|Usou Suporte|        Plano|Churn|\n",
      "+---+-----+------+----------------------+------------+-------------+-----+\n",
      "|  1|   21|     F|                  1331|           1|Intermediário|    1|\n",
      "|  2|   21|     M|                  1160|           0|Intermediário|    0|\n",
      "|  3|   62|     M|                   454|           1|       Básico|    0|\n",
      "|  4|   64|     M|                   226|           1|Intermediário|    0|\n",
      "|  5|   61|     M|                   474|           1|     Avançado|    0|\n",
      "+---+-----+------+----------------------+------------+-------------+-----+\n",
      "only showing top 5 rows\n",
      "\n",
      "+------------+----------+--------------------+------------------+-----------+\n",
      "|ID Transação|ID Cliente|                Data|             Valor|  Categoria|\n",
      "+------------+----------+--------------------+------------------+-----------+\n",
      "|           1|         1|2022-11-25 13:50:...|57.287427536330505|   Esportes|\n",
      "|           2|         1|2020-01-19 12:27:...| 97.07199340552512|  Alimentos|\n",
      "|           3|         1|2021-12-28 12:33:...|169.10581012381087|     Livros|\n",
      "|           4|         1|2022-02-05 01:39:...|199.38694865538451|     Roupas|\n",
      "|           5|         1|2022-11-16 23:06:...|160.00228343317622|Eletrônicos|\n",
      "+------------+----------+--------------------+------------------+-----------+\n",
      "only showing top 5 rows\n",
      "\n"
     ]
    }
   ],
   "source": [
    "base_file_path = \"../data/base_churn.csv\"\n",
    "transaction_file_path = \"../data/base_transacoes.csv\"\n",
    "\n",
    "df_base = spark.read.csv(base_file_path, header=True, inferSchema=True)\n",
    "df_transaction = spark.read.csv(transaction_file_path, header=True, inferSchema=True)\n",
    "\n",
    "df_base.show(5)\n",
    "df_transaction.show(5)"
   ]
  },
  {
   "cell_type": "markdown",
   "id": "ccc73084-f24f-4261-8961-e55a0f301519",
   "metadata": {},
   "source": [
    "# 5. Análise Exploratória dos Dados"
   ]
  },
  {
   "cell_type": "code",
   "execution_count": 8,
   "id": "a89cc2e7-cd0f-4843-81d7-1163e2cf24d4",
   "metadata": {},
   "outputs": [
    {
     "data": {
      "text/plain": [
       "' \\n##### Lista de coisas a serem feitas #####\\n\\nAjustar os nomes de cada coluna\\n, checar se os valores conferem com o tipo de cada coluna ok\\n, padronizar os nomes das colunas conforme seus tipos de metadados\\n, \\n, \\n'"
      ]
     },
     "execution_count": 8,
     "metadata": {},
     "output_type": "execute_result"
    }
   ],
   "source": [
    "\"\"\" \n",
    "##### Lista de coisas a serem feitas #####\n",
    "\n",
    "Ajustar os nomes de cada coluna\n",
    ", checar se os valores conferem com o tipo de cada coluna ok\n",
    ", padronizar os nomes das colunas conforme seus tipos de metadados\n",
    ", \n",
    ", \n",
    "\"\"\""
   ]
  },
  {
   "cell_type": "code",
   "execution_count": 9,
   "id": "552a7c51-5bd0-4a98-859b-3486cb3d5f0c",
   "metadata": {},
   "outputs": [
    {
     "name": "stdout",
     "output_type": "stream",
     "text": [
      "root\n",
      " |-- ID: integer (nullable = true)\n",
      " |-- Idade: integer (nullable = true)\n",
      " |-- Gênero: string (nullable = true)\n",
      " |-- Dias desde a Inscrição: integer (nullable = true)\n",
      " |-- Usou Suporte: integer (nullable = true)\n",
      " |-- Plano: string (nullable = true)\n",
      " |-- Churn: integer (nullable = true)\n",
      "\n"
     ]
    }
   ],
   "source": [
    "df_base.printSchema()"
   ]
  },
  {
   "cell_type": "code",
   "execution_count": 10,
   "id": "11802616-60d5-4fe8-8626-528d7cd66661",
   "metadata": {},
   "outputs": [
    {
     "name": "stdout",
     "output_type": "stream",
     "text": [
      "root\n",
      " |-- ID Transação: integer (nullable = true)\n",
      " |-- ID Cliente: integer (nullable = true)\n",
      " |-- Data: timestamp (nullable = true)\n",
      " |-- Valor: double (nullable = true)\n",
      " |-- Categoria: string (nullable = true)\n",
      "\n"
     ]
    }
   ],
   "source": [
    "df_transaction.printSchema()"
   ]
  },
  {
   "cell_type": "code",
   "execution_count": 11,
   "id": "a635124b-089f-468b-acb9-f837422ce4c3",
   "metadata": {},
   "outputs": [
    {
     "name": "stdout",
     "output_type": "stream",
     "text": [
      "df_base: 1000\n",
      "df_transaction: 10171\n"
     ]
    }
   ],
   "source": [
    "print(\"df_base:\", df_base.count())\n",
    "print(\"df_transaction:\", df_transaction.count())"
   ]
  },
  {
   "cell_type": "code",
   "execution_count": 12,
   "id": "671bc779-4554-458a-aded-dabd166bef7d",
   "metadata": {},
   "outputs": [
    {
     "name": "stdout",
     "output_type": "stream",
     "text": [
      "+-------+-----------------+-----------------+------+----------------------+-------------------+-------------+------------------+\n",
      "|summary|               ID|            Idade|Gênero|Dias desde a Inscrição|       Usou Suporte|        Plano|             Churn|\n",
      "+-------+-----------------+-----------------+------+----------------------+-------------------+-------------+------------------+\n",
      "|  count|             1000|             1000|  1000|                  1000|               1000|         1000|              1000|\n",
      "|   mean|            500.5|           43.038|  NULL|               920.844|              0.536|         NULL|             0.515|\n",
      "| stddev|288.8194360957494|15.05227979832714|  NULL|     514.1036064668114|0.49895185434363604|         NULL|0.5000250243988043|\n",
      "|    min|                1|               18|     F|                     1|                  0|     Avançado|                 0|\n",
      "|    max|             1000|               69|     M|                  1822|                  1|Intermediário|                 1|\n",
      "+-------+-----------------+-----------------+------+----------------------+-------------------+-------------+------------------+\n",
      "\n"
     ]
    }
   ],
   "source": [
    "df_base.describe().show()"
   ]
  },
  {
   "cell_type": "code",
   "execution_count": 13,
   "id": "f3c51163-2b98-499e-b79b-df296b7edf73",
   "metadata": {},
   "outputs": [
    {
     "name": "stdout",
     "output_type": "stream",
     "text": [
      "+-------+-----------------+------------------+------------------+---------+\n",
      "|summary|     ID Transação|        ID Cliente|             Valor|Categoria|\n",
      "+-------+-----------------+------------------+------------------+---------+\n",
      "|  count|            10171|             10171|             10171|    10171|\n",
      "|   mean|           5086.0|505.00629239996067|102.66469491915382|     NULL|\n",
      "| stddev|2936.259127983541|291.90660532737974| 56.36791146684839|     NULL|\n",
      "|    min|                1|                 1| 5.018187264142361|Alimentos|\n",
      "|    max|            10171|              1000|199.98043843894678|   Roupas|\n",
      "+-------+-----------------+------------------+------------------+---------+\n",
      "\n"
     ]
    }
   ],
   "source": [
    "df_transaction.describe().show()"
   ]
  },
  {
   "cell_type": "code",
   "execution_count": 14,
   "id": "136f2cf5-3d73-408d-933e-f62f040fa69e",
   "metadata": {},
   "outputs": [
    {
     "name": "stdout",
     "output_type": "stream",
     "text": [
      "+---+-----+------+----------------------+------------+-----+-----+\n",
      "| ID|Idade|Gênero|Dias desde a Inscrição|Usou Suporte|Plano|Churn|\n",
      "+---+-----+------+----------------------+------------+-----+-----+\n",
      "|  0|    0|     0|                     0|           0|    0|    0|\n",
      "+---+-----+------+----------------------+------------+-----+-----+\n",
      "\n",
      "+------------+----------+----+-----+---------+\n",
      "|ID Transação|ID Cliente|Data|Valor|Categoria|\n",
      "+------------+----------+----+-----+---------+\n",
      "|           0|         0|   0|    0|        0|\n",
      "+------------+----------+----+-----+---------+\n",
      "\n"
     ]
    }
   ],
   "source": [
    "# Para o df_base\n",
    "df_base.select([F.sum(F.col(c).isNull().cast(\"int\")).alias(c) for c in df_base.columns]).show()\n",
    "\n",
    "# Para o df_transaction\n",
    "df_transaction.select([F.sum(F.col(c).isNull().cast(\"int\")).alias(c) for c in df_transaction.columns]).show()\n"
   ]
  },
  {
   "cell_type": "markdown",
   "id": "d2d23151-0bf0-4186-ac6c-f8eda08bf393",
   "metadata": {},
   "source": [
    "# 6. Tratamento dos Dados"
   ]
  },
  {
   "cell_type": "code",
   "execution_count": 15,
   "id": "814bdd70-2f7b-4d76-bbae-8677d02e7199",
   "metadata": {},
   "outputs": [],
   "source": [
    "columns_dic = {\"ID\": \"NB_ID_CLIENTE\"\n",
    "               , \"Idade\": \"NB_IDADE\"\n",
    "               , \"Gênero\": \"TX_GENERO\"\n",
    "               , \"Dias desde a Inscrição\": \"NB_DIAS_INSCRITO\"\n",
    "               , \"Usou Suporte\": \"NB_SUPORTE\"\n",
    "               , \"Plano\": \"TX_PLANO\"\n",
    "               , \"Churn\": \"FL_CHURN\"}\n",
    "df_base_01 = rename_columns(columns_dic, df_base)"
   ]
  },
  {
   "cell_type": "code",
   "execution_count": 16,
   "id": "f81c5bc8-cc86-4342-b32f-8bcafc464080",
   "metadata": {},
   "outputs": [],
   "source": [
    "columns_dic = {\"ID Transação\": \"NB_ID_TRANSACAO\"\n",
    "               , \"ID Cliente\": \"NB_ID_CLIENTE\"\n",
    "               , \"Data\": \"DT_DATA\"\n",
    "               , \"Valor\": \"NB_VALOR\"\n",
    "               , \"Categoria\": \"TX_CATEGORIA\"}\n",
    "df_transaction_01 = rename_columns(columns_dic, df_transaction)"
   ]
  },
  {
   "cell_type": "code",
   "execution_count": 17,
   "id": "fc8c1f4f-59dd-428d-816b-ebef8e13fa8a",
   "metadata": {},
   "outputs": [
    {
     "name": "stdout",
     "output_type": "stream",
     "text": [
      "+-------------+--------+---------+----------------+----------+-------------+--------+\n",
      "|NB_ID_CLIENTE|NB_IDADE|TX_GENERO|NB_DIAS_INSCRITO|NB_SUPORTE|     TX_PLANO|FL_CHURN|\n",
      "+-------------+--------+---------+----------------+----------+-------------+--------+\n",
      "|            1|      21|        F|            1331|         1|Intermediário|       1|\n",
      "|            2|      21|        M|            1160|         0|Intermediário|       0|\n",
      "|            3|      62|        M|             454|         1|       Básico|       0|\n",
      "|            4|      64|        M|             226|         1|Intermediário|       0|\n",
      "|            5|      61|        M|             474|         1|     Avançado|       0|\n",
      "+-------------+--------+---------+----------------+----------+-------------+--------+\n",
      "only showing top 5 rows\n",
      "\n"
     ]
    }
   ],
   "source": [
    "df_base_01.show(5)"
   ]
  },
  {
   "cell_type": "code",
   "execution_count": 18,
   "id": "9a9bb418-d8a7-4323-a8b0-331a44754607",
   "metadata": {},
   "outputs": [
    {
     "name": "stdout",
     "output_type": "stream",
     "text": [
      "+---------------+-------------+--------------------+------------------+------------+\n",
      "|NB_ID_TRANSACAO|NB_ID_CLIENTE|             DT_DATA|          NB_VALOR|TX_CATEGORIA|\n",
      "+---------------+-------------+--------------------+------------------+------------+\n",
      "|              1|            1|2022-11-25 13:50:...|57.287427536330505|    Esportes|\n",
      "|              2|            1|2020-01-19 12:27:...| 97.07199340552512|   Alimentos|\n",
      "|              3|            1|2021-12-28 12:33:...|169.10581012381087|      Livros|\n",
      "|              4|            1|2022-02-05 01:39:...|199.38694865538451|      Roupas|\n",
      "|              5|            1|2022-11-16 23:06:...|160.00228343317622| Eletrônicos|\n",
      "+---------------+-------------+--------------------+------------------+------------+\n",
      "only showing top 5 rows\n",
      "\n"
     ]
    }
   ],
   "source": [
    "df_transaction_01.show(5)"
   ]
  },
  {
   "cell_type": "markdown",
   "id": "6e9b14fa-d71f-457d-88d6-7a9e9ce41339",
   "metadata": {},
   "source": [
    "# 7. Feature Enginnering"
   ]
  },
  {
   "cell_type": "markdown",
   "id": "e2674c51-97bc-4fae-8f1b-9ab3825edeec",
   "metadata": {},
   "source": [
    "## 7.1. Variáveis Explicativas"
   ]
  },
  {
   "cell_type": "markdown",
   "id": "18a9e0bb-e85f-497b-913c-1896e4243514",
   "metadata": {},
   "source": [
    "Criar as seguintes variáveis explicativas:\n",
    "\n",
    "    * Tempo desde a Última Transação: A diferença entre a data mais recente no conjunto de dados e a última data de compra de cada cliente.\n",
    "    * Frequência de Compra: Quantidade de compras que o cliente fez dividida pelo número de meses desde sua inscrição.\n",
    "    * Total Gasto: Soma de todos os valores gastos pelo cliente em todas as suas transações.\n",
    "    * Categoria Favorita: Categoria de produto em que o cliente gastou a maior quantia.\n",
    "    * Gasto Médio por Transação: Total gasto dividido pelo número total de transações.\n",
    "    * Duração da Assinatura: Número de dias desde que o cliente se inscreveu até a data mais recente no conjunto de dados.\n",
    "    * Número de Categorias Compradas: Quantidade de categorias diferentes das quais o cliente comprou.\n",
    "    * Usou Suporte antes da Primeira Compra: Indicador (1 ou 0) se o cliente usou o suporte antes de fazer sua primeira compra.\n",
    "    * Dias entre Inscrição e Primeira Compra: Diferença em dias entre a data de inscrição do cliente e sua primeira transação.\n",
    "    * Frequência de Transações por Plano: Número de transações do cliente dividido pelos meses de inscrição, segmentado por plano (Básico, Intermediário, Avançado)\n",
    "\n",
    "Variáveis históricas - 3 meses:\n",
    "\n",
    "    * Média do Valor Gasto em Esportes nos Últimos 3 Meses: Esta variável calcula a média dos gastos do cliente na categoria \"Esportes\" nos últimos três meses.\n",
    "    * Média do Valor Gasto em Eletrônicos nos Últimos 3 Meses: Semelhante à anterior, mas focada na categoria \"Eletrônicos\".\n",
    "    * Média do Valor Gasto em Roupas nos Últimos 3 Meses: Foca na categoria \"Roupas\", representando a média dos gastos do cliente nos últimos três meses.\n",
    "    * Média do Valor Gasto em Alimentos nos Últimos 3 Meses: Representa a média dos gastos do cliente na categoria \"Alimentos\" nos últimos três meses.\n",
    "    * Média do Valor Gasto em Livros nos Últimos 3 Meses: Foca na categoria \"Livros\", calculando a média dos gastos do cliente nos últimos três meses.\n",
    "    Repita o passo anterior considerando - últimos 6 meses, 9 meses e 12 meses."
   ]
  },
  {
   "cell_type": "markdown",
   "id": "53f7138c-2486-4c04-8f24-26dffecddc32",
   "metadata": {},
   "source": [
    "### Tempo desde a Última Transação"
   ]
  },
  {
   "cell_type": "code",
   "execution_count": 19,
   "id": "3b44f86f-eb38-4c17-947a-86872b873f7d",
   "metadata": {},
   "outputs": [],
   "source": [
    "# Tempo desde a Última Transação: A diferença entre a data mais recente no conjunto de dados e a última data de compra de cada cliente.\n",
    "\n",
    "max_data_value = df_transaction_01.agg(F.max(\"DT_DATA\")).collect()[0][0]\n",
    "\n",
    "df_feat_eng_00 = (df_transaction_01.groupBy(\"NB_ID_CLIENTE\")\n",
    "               .agg(\n",
    "                    F.datediff(F.lit(max_data_value), F.max(F.col(\"DT_DATA\"))).alias(\"NB_TEMPO_ULTIMA_TRANSACAO\")\n",
    "               )\n",
    "              ).orderBy(F.col(\"NB_ID_CLIENTE\"))"
   ]
  },
  {
   "cell_type": "code",
   "execution_count": 20,
   "id": "51000e65-9cbe-42c9-abf8-56ee8fdaab11",
   "metadata": {},
   "outputs": [
    {
     "name": "stdout",
     "output_type": "stream",
     "text": [
      "+-------------+-------------------------+\n",
      "|NB_ID_CLIENTE|NB_TEMPO_ULTIMA_TRANSACAO|\n",
      "+-------------+-------------------------+\n",
      "|            1|                       13|\n",
      "|            2|                      389|\n",
      "|            3|                       40|\n",
      "|            4|                       19|\n",
      "|            5|                        9|\n",
      "|            6|                      116|\n",
      "|            7|                      103|\n",
      "|            8|                      104|\n",
      "|            9|                      123|\n",
      "|           10|                       91|\n",
      "|           11|                      135|\n",
      "|           12|                      212|\n",
      "|           13|                       75|\n",
      "|           14|                      500|\n",
      "|           15|                      492|\n",
      "|           16|                       73|\n",
      "|           17|                       48|\n",
      "|           18|                       71|\n",
      "|           19|                      199|\n",
      "|           20|                      100|\n",
      "+-------------+-------------------------+\n",
      "only showing top 20 rows\n",
      "\n"
     ]
    }
   ],
   "source": [
    "df_feat_eng_00.show()"
   ]
  },
  {
   "cell_type": "markdown",
   "id": "805edfd8-4313-43bc-9f04-40b108771940",
   "metadata": {},
   "source": [
    "#### Armazenando feature em parquet"
   ]
  },
  {
   "cell_type": "code",
   "execution_count": 21,
   "id": "c68d0449-32f3-489f-af59-c32acb1789c2",
   "metadata": {},
   "outputs": [],
   "source": [
    "# file_path = \"../data/feature_store/FEATURE_NB_TEMPO_ULTIMA_TRANSACAO.parquet\"\n",
    "# df_to_parquet(df_feat_eng, file_path)"
   ]
  },
  {
   "cell_type": "markdown",
   "id": "43aa77f6-877c-47ba-bd6c-bc53ea50a95a",
   "metadata": {},
   "source": [
    "#### Função"
   ]
  },
  {
   "cell_type": "code",
   "execution_count": 22,
   "id": "f8867ca0-583d-442c-9df4-c387286f3e5e",
   "metadata": {},
   "outputs": [
    {
     "name": "stdout",
     "output_type": "stream",
     "text": [
      "+-------------+-------------------------+\n",
      "|NB_ID_CLIENTE|NB_TEMPO_ULTIMA_TRANSACAO|\n",
      "+-------------+-------------------------+\n",
      "|            1|                       13|\n",
      "|            2|                      389|\n",
      "|            3|                       40|\n",
      "|            4|                       19|\n",
      "|            5|                        9|\n",
      "|            6|                      116|\n",
      "|            7|                      103|\n",
      "|            8|                      104|\n",
      "|            9|                      123|\n",
      "|           10|                       91|\n",
      "|           11|                      135|\n",
      "|           12|                      212|\n",
      "|           13|                       75|\n",
      "|           14|                      500|\n",
      "|           15|                      492|\n",
      "|           16|                       73|\n",
      "|           17|                       48|\n",
      "|           18|                       71|\n",
      "|           19|                      199|\n",
      "|           20|                      100|\n",
      "+-------------+-------------------------+\n",
      "only showing top 20 rows\n",
      "\n"
     ]
    }
   ],
   "source": [
    "fs = FeatureStoreChurn()\n",
    "\n",
    "df_feat_eng_00 = fs.feat_tempo_ultima_transacao(df_transaction)\n",
    "df_feat_eng_00.show()"
   ]
  },
  {
   "cell_type": "markdown",
   "id": "7aa67adf-7cf5-4564-b0f6-9bd2b45e85f4",
   "metadata": {},
   "source": [
    "### Frequência de Compra\n"
   ]
  },
  {
   "cell_type": "code",
   "execution_count": 23,
   "id": "72752ead-e88a-4f1a-86c8-8411b874defc",
   "metadata": {},
   "outputs": [],
   "source": [
    "# Frequência de Compra: Quantidade de compras que o cliente fez dividida pelo número de meses desde sua inscrição.\n",
    "columns_dic = {\"ID\": \"NB_ID_CLIENTE\"\n",
    "               , \"Idade\": \"NB_IDADE\"\n",
    "               , \"Gênero\": \"TX_GENERO\"\n",
    "               , \"Dias desde a Inscrição\": \"NB_DIAS_INSCRITO\"\n",
    "               , \"Usou Suporte\": \"NB_SUPORTE\"\n",
    "               , \"Plano\": \"TX_PLANO\"\n",
    "               , \"Churn\": \"FL_CHURN\"}\n",
    "df_base_01 = rename_columns(columns_dic, df_base)\n",
    "\n",
    "columns_dic = {\"ID Transação\": \"NB_ID_TRANSACAO\"\n",
    "               , \"ID Cliente\": \"NB_ID_CLIENTE\"\n",
    "               , \"Data\": \"DT_DATA\"\n",
    "               , \"Valor\": \"NB_VALOR\"\n",
    "               , \"Categoria\": \"TX_CATEGORIA\"}\n",
    "df_transaction_01 = rename_columns(columns_dic, df_transaction)\n",
    "\n",
    "df_max_compras = df_base_01.withColumn(\"DT_PRIMEIRO_DIA\"\n",
    "                                           , F.date_sub(\n",
    "                                               F.current_timestamp()\n",
    "                                               , F.col(\"NB_DIAS_INSCRITO\")\n",
    "                                           )\n",
    "                                      )\n",
    "\n",
    "df_max_compras = (df_max_compras.withColumn(\"NB_MESES_INSCRITO\"\n",
    "                                           , F.months_between(\n",
    "                                               F.current_timestamp()\n",
    "                                               , F.col(\"DT_PRIMEIRO_DIA\")\n",
    "                                           ).cast(\"int\")\n",
    "                                          )\n",
    "                 )\n",
    "\n",
    "df_qtd_compras = (df_transaction_01.groupBy(\"NB_ID_CLIENTE\")\n",
    "                                    .agg(F.count(\"*\")\n",
    "                                    .alias(\"NB_TOTAL_COMPRAS\")\n",
    "                                    )\n",
    "                 )\n",
    "\n",
    "df_max_compras_01 = join_dfs(df_max_compras, df_qtd_compras, \"NB_ID_CLIENTE\", \"left\")\n",
    "\n",
    "df_max_compras_01 = (df_max_compras_01.withColumn(\"NB_FREQ_COMPRAS\"\n",
    "                                                 , F.round(\n",
    "                                                     F.col(\"NB_TOTAL_COMPRAS\") / F.col(\"NB_MESES_INSCRITO\")\n",
    "                                                 , 2)\n",
    "                                                )\n",
    "                    ).select(\"NB_ID_CLIENTE\", \"NB_FREQ_COMPRAS\")"
   ]
  },
  {
   "cell_type": "code",
   "execution_count": 24,
   "id": "32d37940-baa7-4c17-adee-7d3b968fbbed",
   "metadata": {},
   "outputs": [
    {
     "name": "stdout",
     "output_type": "stream",
     "text": [
      "+-------------+---------------+\n",
      "|NB_ID_CLIENTE|NB_FREQ_COMPRAS|\n",
      "+-------------+---------------+\n",
      "|            1|            0.4|\n",
      "|            2|           0.26|\n",
      "|            3|           0.64|\n",
      "|            4|           1.14|\n",
      "|            5|            1.0|\n",
      "|            6|            1.0|\n",
      "|            7|            0.4|\n",
      "|            8|           0.25|\n",
      "|            9|           0.27|\n",
      "|           10|            0.1|\n",
      "|           11|           0.12|\n",
      "|           12|           0.17|\n",
      "|           13|           0.21|\n",
      "|           14|           0.06|\n",
      "|           15|           0.02|\n",
      "|           16|           0.29|\n",
      "|           17|           0.27|\n",
      "|           18|            5.0|\n",
      "|           19|           0.21|\n",
      "|           20|           0.32|\n",
      "+-------------+---------------+\n",
      "only showing top 20 rows\n",
      "\n"
     ]
    }
   ],
   "source": [
    "df_max_compras_01.show()"
   ]
  },
  {
   "cell_type": "code",
   "execution_count": 25,
   "id": "cc160108-c058-4c01-9556-6ed4f3578683",
   "metadata": {},
   "outputs": [
    {
     "data": {
      "text/plain": [
       "'\\nEsta seria uma maneira simplificada de realizar o mesmo código acima. \\nDeixando aqui para poder ter como referência.\\n\\ndf_max_compras_01 = (\\n    df_base_01\\n    .join(\\n        df_transaction_02.groupBy(\"NB_ID_CLIENTE\")\\n        .agg(F.count(\"*\").alias(\"NB_TOTAL_COMPRAS\")),\\n        on=\"NB_ID_CLIENTE\",\\n        how=\"left\"\\n    )\\n    .withColumn(\\n        \"DT_PRIMEIRO_DIA\",\\n        F.date_sub(F.current_timestamp(), F.col(\"NB_DIAS_INSCRITO\"))\\n    )\\n    .withColumn(\\n        \"NB_MESES_INSCRITO\",\\n        F.months_between(F.current_timestamp(), F.col(\"DT_PRIMEIRO_DIA\")).cast(\"int\")\\n    )\\n    .withColumn(\\n        \"NB_FREQ_COMPRAS\",\\n            F.round(F.col(\"NB_TOTAL_COMPRAS\") / F.col(\"NB_MESES_INSCRITO\"), 4)\\n        )\\n    ).select(\"NB_ID_CLIENTE\", \"NB_FREQ_COMPRAS\")\\n\\n# Unir df_max_compras_01 com df_base_01\\ndf_base_02 = df_base_01.join(df_max_compras_01, on=\"NB_ID_CLIENTE\", how=\"left\")\\n'"
      ]
     },
     "execution_count": 25,
     "metadata": {},
     "output_type": "execute_result"
    }
   ],
   "source": [
    "# Frequência de Compra: Quantidade de compras que o cliente fez dividida pelo número de meses desde sua inscrição.\n",
    "\"\"\"\n",
    "Esta seria uma maneira simplificada de realizar o mesmo código acima. \n",
    "Deixando aqui para poder ter como referência.\n",
    "\n",
    "df_max_compras_01 = (\n",
    "    df_base_01\n",
    "    .join(\n",
    "        df_transaction_02.groupBy(\"NB_ID_CLIENTE\")\n",
    "        .agg(F.count(\"*\").alias(\"NB_TOTAL_COMPRAS\")),\n",
    "        on=\"NB_ID_CLIENTE\",\n",
    "        how=\"left\"\n",
    "    )\n",
    "    .withColumn(\n",
    "        \"DT_PRIMEIRO_DIA\",\n",
    "        F.date_sub(F.current_timestamp(), F.col(\"NB_DIAS_INSCRITO\"))\n",
    "    )\n",
    "    .withColumn(\n",
    "        \"NB_MESES_INSCRITO\",\n",
    "        F.months_between(F.current_timestamp(), F.col(\"DT_PRIMEIRO_DIA\")).cast(\"int\")\n",
    "    )\n",
    "    .withColumn(\n",
    "        \"NB_FREQ_COMPRAS\",\n",
    "            F.round(F.col(\"NB_TOTAL_COMPRAS\") / F.col(\"NB_MESES_INSCRITO\"), 2)\n",
    "        )\n",
    "    ).select(\"NB_ID_CLIENTE\", \"NB_FREQ_COMPRAS\")\n",
    "\n",
    "# Unir df_max_compras_01 com df_base_01\n",
    "df_base_02 = df_base_01.join(df_max_compras_01, on=\"NB_ID_CLIENTE\", how=\"left\")\n",
    "\"\"\"\n"
   ]
  },
  {
   "cell_type": "markdown",
   "id": "a153b74d-6ea7-45b5-8b1b-e681c3c0367c",
   "metadata": {},
   "source": [
    "#### Salvando feature em parquet"
   ]
  },
  {
   "cell_type": "code",
   "execution_count": 26,
   "id": "00294d35-9794-4a05-8e92-40e5bc6f7c07",
   "metadata": {},
   "outputs": [],
   "source": [
    "# file_path = \"../data/feature_store/FEATURE_NB_FREQ_COMPRAS.parquet\"\n",
    "# df_to_parquet(df_max_compras_01, file_path)"
   ]
  },
  {
   "cell_type": "markdown",
   "id": "8ccbe003-6eec-46d6-be64-e98d5d074449",
   "metadata": {},
   "source": [
    "#### Função"
   ]
  },
  {
   "cell_type": "code",
   "execution_count": 27,
   "id": "7f5d3c7a-3ae9-4e36-b015-82f7ac8a654f",
   "metadata": {},
   "outputs": [
    {
     "name": "stdout",
     "output_type": "stream",
     "text": [
      "+-------------+---------------+\n",
      "|NB_ID_CLIENTE|NB_FREQ_COMPRAS|\n",
      "+-------------+---------------+\n",
      "|            1|            0.4|\n",
      "|            2|           0.26|\n",
      "|            3|           0.64|\n",
      "|            4|           1.14|\n",
      "|            5|            1.0|\n",
      "|            6|            1.0|\n",
      "|            7|            0.4|\n",
      "|            8|           0.25|\n",
      "|            9|           0.27|\n",
      "|           10|            0.1|\n",
      "|           11|           0.12|\n",
      "|           12|           0.17|\n",
      "|           13|           0.21|\n",
      "|           14|           0.06|\n",
      "|           15|           0.02|\n",
      "|           16|           0.29|\n",
      "|           17|           0.27|\n",
      "|           18|            5.0|\n",
      "|           19|           0.21|\n",
      "|           20|           0.32|\n",
      "+-------------+---------------+\n",
      "only showing top 20 rows\n",
      "\n"
     ]
    }
   ],
   "source": [
    "fs = FeatureStoreChurn()\n",
    "\n",
    "df_feat_eng_01 = fs.feat_freq_compras(df_transaction, df_base)\n",
    "df_feat_eng_01.show()"
   ]
  },
  {
   "cell_type": "markdown",
   "id": "f43d2e8c-691e-4cf6-b198-8798515244af",
   "metadata": {},
   "source": [
    "### Total Gasto"
   ]
  },
  {
   "cell_type": "code",
   "execution_count": null,
   "id": "1bec91e0-5cb7-43d5-b02f-6f01a6ef3ed4",
   "metadata": {},
   "outputs": [],
   "source": [
    "# Total Gasto: Soma de todos os valores gastos pelo cliente em todas as suas transações.\n",
    "\n",
    "window_spec = Window.partitionBy(\"NB_ID_CLIENTE\")\n",
    "df_gasto_total = df_transaction_01.withColumn(\"NB_GASTO_TOTAL_CLIENTE\", \n",
    "                                                 F.round(F.sum(\"NB_VALOR\").over(window_spec), 2)\n",
    "                                             ).select(\"NB_ID_CLIENTE\", \"NB_GASTO_TOTAL_CLIENTE\")\n",
    "\n",
    "df_feat_eng = join_dfs(df_feat_eng, df_feat_eng, df_gasto_total, \"NB_ID_CLIENTE\", \"left\")"
   ]
  },
  {
   "cell_type": "code",
   "execution_count": null,
   "id": "38ed7c7e-be98-4fd4-a0e9-12b95c7c40ec",
   "metadata": {},
   "outputs": [],
   "source": [
    "# Categoria Favorita: Categoria de produto em que o cliente gastou a maior quantia.\n",
    "\n",
    "window_spec = Window.partitionBy(\"NB_ID_CLIENTE\", \"TX_CATEGORIA\")\n",
    "df_rank_gasto = df_transaction_01.withColumn(\"NB_GASTO_TOTAL_CLI_CAT\", \n",
    "                                                 F.round(F.sum(\"NB_VALOR\").over(window_spec), 2))\n",
    "\n",
    "window_rank = Window.partitionBy(\"NB_ID_CLIENTE\").orderBy(F.desc(\"NB_GASTO_TOTAL_CLI_CAT\"))\n",
    "\n",
    "df_rank_gasto = df_rank_gasto.withColumn(\"NB_RANK_GASTO_CLI_CAT\", F.row_number().over(window_rank))\n",
    "\n",
    "df_rank_gasto = df_rank_gasto.filter(F.col(\"NB_RANK_GASTO_CLI_CAT\") == 1).select(\"NB_ID_CLIENTE\", \"TX_CATEGORIA\")\n",
    "\n",
    "df_rank_gasto = df_rank_gasto.withColumnRenamed(\"TX_CATEGORIA\", \"TX_MAIOR_CATEGORIA\")\n",
    "\n",
    "df_feat_eng = join_dfs(df_feat_eng, df_feat_eng, df_rank_gasto, \"NB_ID_CLIENTE\", \"left\")"
   ]
  },
  {
   "cell_type": "code",
   "execution_count": null,
   "id": "1b8fec3a-8c66-4d24-92d1-b1cf44b96b61",
   "metadata": {},
   "outputs": [],
   "source": [
    "\"\"\"\n",
    "Esta seria uma maneira simplificada de realizar o mesmo código acima. \n",
    "Deixando aqui para poder ter como referência.\n",
    "\"\"\"\n",
    "\n",
    "# window_spec = Window.partitionBy(\"NB_ID_CLIENTE\", \"TX_CATEGORIA\")\n",
    "# window_rank = Window.partitionBy(\"NB_ID_CLIENTE\").orderBy(F.desc(\"NB_GASTO_TOTAL_CLI_CAT\"))\n",
    "\n",
    "# df_rank_gasto = (df_transaction_02\n",
    "#                  .withColumn(\"NB_GASTO_TOTAL_CLI_CAT\", F.round(F.sum(\"NB_VALOR\").over(window_spec), 2))\n",
    "#                  .withColumn(\"NB_RANK_GASTO_CLI_CAT\", F.row_number().over(window_rank))\n",
    "#                  .filter(F.col(\"NB_RANK_GASTO_CLI_CAT\") == 1)\n",
    "#                  .select(\"NB_ID_CLIENTE\", F.col(\"TX_CATEGORIA\").alias(\"TX_MAIOR_CATEGORIA\"))\n",
    "#                 )\n",
    "\n",
    "# # Juntar os resultados com df_transaction_02\n",
    "# df_transaction_02 = df_transaction_02.join(df_rank_gasto, on=\"NB_ID_CLIENTE\", how=\"left\")"
   ]
  },
  {
   "cell_type": "code",
   "execution_count": null,
   "id": "8740240a-080c-466d-9819-7fc3685ba09f",
   "metadata": {},
   "outputs": [],
   "source": [
    "# Gasto Médio por Transação: Total gasto dividido pelo número total de transações.\n",
    "\n",
    "df_media_gasto = df_feat_eng.withColumn(\"NB_MEDIA_GASTO_CLI\"\n",
    "                                              , F.round(\n",
    "                                                  F.col(\"NB_GASTO_TOTAL_CLIENTE\") / F.col(\"NB_TOTAL_COMPRAS\")\n",
    "                                                  , 2)\n",
    "                                             ).select(\"NB_ID_CLIENTE\", \"NB_MEDIA_GASTO_CLI\")\n",
    "\n",
    "df_feat_eng = join_dfs(df_feat_eng, df_feat_eng, df_media_gasto, \"NB_ID_CLIENTE\", \"left\")"
   ]
  },
  {
   "cell_type": "code",
   "execution_count": null,
   "id": "abb675d1-24cd-40d9-b549-7cbd15d3373c",
   "metadata": {},
   "outputs": [],
   "source": [
    "# Duração da Assinatura: Número de dias desde que o cliente se inscreveu até a data mais recente no conjunto de dados.\n",
    "\n",
    "df_feat_eng = df_feat_eng.withColumn(\"NB_DIAS_ASSINATURA\"\n",
    "                                                   , F.datediff(\n",
    "                                                           F.col(\"DT_PRIMEIRO_DIA\"), F.lit(max_data_value)\n",
    "                                                       ).cast(\"int\")\n",
    "                                                   )"
   ]
  },
  {
   "cell_type": "code",
   "execution_count": null,
   "id": "06aed41f-4594-4ee1-acc9-b24881f9340e",
   "metadata": {},
   "outputs": [],
   "source": [
    "# Número de Categorias Compradas: Quantidade de categorias diferentes das quais o cliente comprou.\n",
    "df_num_cat = (df_transaction_01.groupBy(\"NB_ID_CLIENTE\")\n",
    "                                    .agg(F.countDistinct(\"TX_CATEGORIA\").alias(\"NB_TOTAL_CATEGORIAS\")\n",
    "                                        )\n",
    "             )\n",
    "df_feat_eng = join_dfs(df_feat_eng, df_feat_eng, df_num_cat, \"NB_ID_CLIENTE\", \"left\")"
   ]
  },
  {
   "cell_type": "code",
   "execution_count": null,
   "id": "366d6379-edab-491a-83c8-867c4d9bef28",
   "metadata": {},
   "outputs": [],
   "source": [
    "df_feat_eng.show()"
   ]
  },
  {
   "cell_type": "code",
   "execution_count": null,
   "id": "275aa297-1772-44e7-9f64-60dff1620952",
   "metadata": {},
   "outputs": [],
   "source": [
    "# Usou Suporte antes da Primeira Compra: Indicador (1 ou 0) se o cliente usou o suporte antes de fazer sua primeira compra.\n",
    "df_compra = (df_feat_eng\n",
    "              .join(df_base_01, on='NB_ID_CLIENTE', how='inner')\n",
    "              .join(df_transaction_01, on='NB_ID_CLIENTE', how='left')\n",
    "              .groupBy(\"NB_ID_CLIENTE\", \"DT_PRIMEIRO_DIA\", \"NB_SUPORTE\")\n",
    "              .agg(F.min(\"DT_DATA\").alias(\"DT_MIN_COMPRA\"))\n",
    "              .withColumn(\"FL_NUNCA_COMPROU\", F.when(F.col(\"DT_MIN_COMPRA\").isNull(), 1).otherwise(0))\n",
    "              .withColumn(\"FL_SUPORTE_ANTES_COMPRA\", F.when((F.col(\"FL_NUNCA_COMPROU\") == 1) & (F.col(\"NB_SUPORTE\") == 1), 1).otherwise(0))\n",
    "            ).select(\"NB_ID_CLIENTE\", \"FL_SUPORTE_ANTES_COMPRA\", \"DT_MIN_COMPRA\")\n",
    "\n",
    "df_feat_eng = join_dfs(df_feat_eng, df_feat_eng, df_compra, \"NB_ID_CLIENTE\", \"left\")"
   ]
  },
  {
   "cell_type": "code",
   "execution_count": null,
   "id": "51905a6f-5edc-4427-91f8-56a5cd1349eb",
   "metadata": {},
   "outputs": [],
   "source": [
    "# Dias entre Inscrição e Primeira Compra: Diferença em dias entre a data de inscrição do cliente e sua primeira transação.\n",
    "df_diff_insc_compra = (df_feat_eng\n",
    "                       .join(df_transaction_01, on='NB_ID_CLIENTE', how='left')\n",
    "                       .groupBy(\"NB_ID_CLIENTE\", \"DT_PRIMEIRO_DIA\", \"DT_MIN_COMPRA\")\n",
    "                       .withColumn(\"NB_DIFF_INSC_COMPRA\", F.date_diff(F.to_date(F.col(\"DT_MIN_COMPRA\")), F.col(\"DT_PRIMEIRO_DIA\")))\n",
    "\n",
    ")\n",
    "\n",
    "df_feat_eng = join_dfs(df_feat_eng, df_feat_eng, df_diff_insc_compra, \"NB_ID_CLIENTE\", \"left\")"
   ]
  },
  {
   "cell_type": "code",
   "execution_count": null,
   "id": "95756e4c-b1b2-4cf7-bccc-2edec37bf736",
   "metadata": {},
   "outputs": [],
   "source": [
    "# Frequência de Transações por Plano: Número de transações do cliente dividido pelos meses de inscrição, segmentado por plano (Básico, Intermediário, Avançado)\n",
    "\"NB_MESES_INSCRITO\"\n"
   ]
  },
  {
   "cell_type": "markdown",
   "id": "da4b3850-2c82-49f4-9ca4-1b5751d1f21b",
   "metadata": {
    "jp-MarkdownHeadingCollapsed": true
   },
   "source": [
    "## 7.2. Variáveis Históricas"
   ]
  },
  {
   "cell_type": "markdown",
   "id": "aba087db-396e-49af-a6d9-71e7f7f5e73e",
   "metadata": {},
   "source": [
    "### 7.2.1. 3 Meses"
   ]
  },
  {
   "cell_type": "code",
   "execution_count": null,
   "id": "948d5efe-b529-4256-a6b2-9c862ede4964",
   "metadata": {},
   "outputs": [],
   "source": []
  },
  {
   "cell_type": "markdown",
   "id": "4999f676-7780-44ca-982f-126720298e49",
   "metadata": {},
   "source": [
    "### 7.2.2. 6 Meses"
   ]
  },
  {
   "cell_type": "code",
   "execution_count": null,
   "id": "7645b49c-796c-4710-8d64-32ca3bc0d72a",
   "metadata": {},
   "outputs": [],
   "source": []
  },
  {
   "cell_type": "markdown",
   "id": "aa87507d-360a-4cd5-a6a9-a5fdad973d3f",
   "metadata": {},
   "source": [
    "### 7.2.3. 9 Meses"
   ]
  },
  {
   "cell_type": "code",
   "execution_count": null,
   "id": "b78e3620-1b0b-4503-ac76-edada4168afa",
   "metadata": {},
   "outputs": [],
   "source": []
  },
  {
   "cell_type": "markdown",
   "id": "8fd98c25-fb0f-4808-827e-823c52a43196",
   "metadata": {},
   "source": [
    "### 7.2.4. 12 Meses"
   ]
  },
  {
   "cell_type": "code",
   "execution_count": null,
   "id": "d9cf2471-4eeb-47da-8ea7-578e4b7ddb91",
   "metadata": {},
   "outputs": [],
   "source": []
  },
  {
   "cell_type": "markdown",
   "id": "39fe84f0-07fd-465e-80f7-29480e2c4bee",
   "metadata": {},
   "source": [
    "# 8. Criação de Novo Arquivo"
   ]
  },
  {
   "cell_type": "code",
   "execution_count": null,
   "id": "13b90b46-4e28-40ab-bd75-7ebf6da5be45",
   "metadata": {},
   "outputs": [],
   "source": [
    "\"\"\"\n",
    "RETIRAR A COLUNA NB_TOTAL_COMPRAS, \"DT_PRIMEIRO_DIA\" de df_transaction ao final...\n",
    "\"\"\""
   ]
  },
  {
   "cell_type": "markdown",
   "id": "2cb643ea-8390-4fc1-b02b-30bbd3083f36",
   "metadata": {},
   "source": [
    "## 8.1. Criando CSV"
   ]
  },
  {
   "cell_type": "code",
   "execution_count": null,
   "id": "11d652b3-3310-403b-bd6e-0ee77865dff4",
   "metadata": {},
   "outputs": [],
   "source": []
  },
  {
   "cell_type": "markdown",
   "id": "5cc2cad7-f28f-4385-8469-c823429f1b01",
   "metadata": {},
   "source": [
    "## 8.2. Criando PARQUET"
   ]
  },
  {
   "cell_type": "code",
   "execution_count": null,
   "id": "5c62f461-8ad9-4e21-9e40-df40bafca827",
   "metadata": {},
   "outputs": [],
   "source": []
  }
 ],
 "metadata": {
  "kernelspec": {
   "display_name": "Python 3 (ipykernel)",
   "language": "python",
   "name": "python3"
  },
  "language_info": {
   "codemirror_mode": {
    "name": "ipython",
    "version": 3
   },
   "file_extension": ".py",
   "mimetype": "text/x-python",
   "name": "python",
   "nbconvert_exporter": "python",
   "pygments_lexer": "ipython3",
   "version": "3.12.2"
  }
 },
 "nbformat": 4,
 "nbformat_minor": 5
}
